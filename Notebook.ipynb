{
 "cells": [
  {
   "cell_type": "markdown",
   "id": "f2954d66",
   "metadata": {},
   "source": [
    "# Importing Libraries"
   ]
  },
  {
   "cell_type": "code",
   "execution_count": 25,
   "id": "c04eab59",
   "metadata": {},
   "outputs": [],
   "source": [
    "import pandas as pd\n",
    "import numpy as np\n",
    "import seaborn as sns\n",
    "import matplotlib.pyplot as plt\n",
    "from seaborn import countplot\n",
    "from matplotlib.pyplot import figure, show\n",
    "from scipy import stats\n",
    "import warnings\n",
    "import xgboost as xgb\n",
    "import gc\n",
    "warnings.filterwarnings('ignore')"
   ]
  },
  {
   "cell_type": "code",
   "execution_count": 2,
   "id": "7e887144",
   "metadata": {},
   "outputs": [],
   "source": [
    "import numpy as np\n",
    "import sklearn as sk\n",
    "import pandas as pd\n",
    "from time import time\n",
    "import matplotlib.pyplot as plt\n",
    "from sklearn import metrics\n",
    "import pickle\n",
    "from sklearn.utils import shuffle\n",
    "from imblearn.over_sampling import SMOTE\n",
    "from sklearn.decomposition import PCA\n",
    "from sklearn.preprocessing import scale\n",
    "from sklearn.model_selection import train_test_split\n",
    "from sklearn.linear_model import LinearRegression\n",
    "from sklearn.naive_bayes import GaussianNB\n",
    "from sklearn.svm import SVC\n",
    "from sklearn.metrics import precision_score, recall_score, f1_score, accuracy_score, confusion_matrix\n",
    "import seaborn as sns\n",
    "from pylab import rcParams\n",
    "import pickle\n",
    "from sklearn import metrics\n",
    "from sklearn.decomposition import PCA\n",
    "from mpl_toolkits.mplot3d import Axes3D\n",
    "\n",
    "import warnings\n",
    "import matplotlib.font_manager\n",
    "warnings.filterwarnings(\"ignore\")"
   ]
  },
  {
   "cell_type": "markdown",
   "id": "826f2410",
   "metadata": {},
   "source": [
    "# Importing Dataset"
   ]
  },
  {
   "cell_type": "code",
   "execution_count": 3,
   "id": "9ddfa639",
   "metadata": {},
   "outputs": [],
   "source": [
    "df = pd.read_csv('dataset/DG_out.csv',dtype={0:'object',1:'int64',2:'int64',3:'float64',4:'float64',5:'float64',6:'float64',7:'float64',8:'int64',9:'int64',10:'int64',11:'int64',12:'int64'})"
   ]
  },
  {
   "cell_type": "markdown",
   "id": "61550f7b",
   "metadata": {},
   "source": [
    "# EDA"
   ]
  },
  {
   "cell_type": "code",
   "execution_count": 4,
   "id": "068dfe30",
   "metadata": {},
   "outputs": [
    {
     "data": {
      "text/html": [
       "<div>\n",
       "<style scoped>\n",
       "    .dataframe tbody tr th:only-of-type {\n",
       "        vertical-align: middle;\n",
       "    }\n",
       "\n",
       "    .dataframe tbody tr th {\n",
       "        vertical-align: top;\n",
       "    }\n",
       "\n",
       "    .dataframe thead th {\n",
       "        text-align: right;\n",
       "    }\n",
       "</style>\n",
       "<table border=\"1\" class=\"dataframe\">\n",
       "  <thead>\n",
       "    <tr style=\"text-align: right;\">\n",
       "      <th></th>\n",
       "      <th>tx_hash</th>\n",
       "      <th>indegree</th>\n",
       "      <th>outdegree</th>\n",
       "      <th>in_btc</th>\n",
       "      <th>out_btc</th>\n",
       "      <th>total_btc</th>\n",
       "      <th>mean_in_btc</th>\n",
       "      <th>mean_out_btc</th>\n",
       "      <th>in_malicious</th>\n",
       "      <th>out_malicious</th>\n",
       "      <th>is_malicious</th>\n",
       "      <th>out_and_tx_malicious</th>\n",
       "      <th>all_malicious</th>\n",
       "    </tr>\n",
       "  </thead>\n",
       "  <tbody>\n",
       "    <tr>\n",
       "      <th>0</th>\n",
       "      <td>0437cd7f8525ceed2324359c2d0ba26006d92d856a9c20...</td>\n",
       "      <td>0</td>\n",
       "      <td>1</td>\n",
       "      <td>0.0</td>\n",
       "      <td>50.0</td>\n",
       "      <td>50.0</td>\n",
       "      <td>0.0</td>\n",
       "      <td>50.0</td>\n",
       "      <td>0</td>\n",
       "      <td>0</td>\n",
       "      <td>0</td>\n",
       "      <td>0</td>\n",
       "      <td>0</td>\n",
       "    </tr>\n",
       "    <tr>\n",
       "      <th>1</th>\n",
       "      <td>f4184fc596403b9d638783cf57adfe4c75c605f6356fbc...</td>\n",
       "      <td>1</td>\n",
       "      <td>2</td>\n",
       "      <td>50.0</td>\n",
       "      <td>50.0</td>\n",
       "      <td>100.0</td>\n",
       "      <td>50.0</td>\n",
       "      <td>25.0</td>\n",
       "      <td>0</td>\n",
       "      <td>0</td>\n",
       "      <td>0</td>\n",
       "      <td>0</td>\n",
       "      <td>0</td>\n",
       "    </tr>\n",
       "    <tr>\n",
       "      <th>2</th>\n",
       "      <td>ea44e97271691990157559d0bdd9959e02790c34db6c00...</td>\n",
       "      <td>1</td>\n",
       "      <td>1</td>\n",
       "      <td>10.0</td>\n",
       "      <td>10.0</td>\n",
       "      <td>20.0</td>\n",
       "      <td>10.0</td>\n",
       "      <td>10.0</td>\n",
       "      <td>0</td>\n",
       "      <td>0</td>\n",
       "      <td>0</td>\n",
       "      <td>0</td>\n",
       "      <td>0</td>\n",
       "    </tr>\n",
       "    <tr>\n",
       "      <th>3</th>\n",
       "      <td>a16f3ce4dd5deb92d98ef5cf8afeaf0775ebca408f708b...</td>\n",
       "      <td>1</td>\n",
       "      <td>1</td>\n",
       "      <td>40.0</td>\n",
       "      <td>30.0</td>\n",
       "      <td>70.0</td>\n",
       "      <td>40.0</td>\n",
       "      <td>30.0</td>\n",
       "      <td>0</td>\n",
       "      <td>0</td>\n",
       "      <td>0</td>\n",
       "      <td>0</td>\n",
       "      <td>0</td>\n",
       "    </tr>\n",
       "    <tr>\n",
       "      <th>4</th>\n",
       "      <td>591e91f809d716912ca1d4a9295e70c3e78bab077683f7...</td>\n",
       "      <td>1</td>\n",
       "      <td>2</td>\n",
       "      <td>30.0</td>\n",
       "      <td>30.0</td>\n",
       "      <td>60.0</td>\n",
       "      <td>30.0</td>\n",
       "      <td>15.0</td>\n",
       "      <td>0</td>\n",
       "      <td>0</td>\n",
       "      <td>0</td>\n",
       "      <td>0</td>\n",
       "      <td>0</td>\n",
       "    </tr>\n",
       "  </tbody>\n",
       "</table>\n",
       "</div>"
      ],
      "text/plain": [
       "                                             tx_hash  indegree  outdegree  \\\n",
       "0  0437cd7f8525ceed2324359c2d0ba26006d92d856a9c20...         0          1   \n",
       "1  f4184fc596403b9d638783cf57adfe4c75c605f6356fbc...         1          2   \n",
       "2  ea44e97271691990157559d0bdd9959e02790c34db6c00...         1          1   \n",
       "3  a16f3ce4dd5deb92d98ef5cf8afeaf0775ebca408f708b...         1          1   \n",
       "4  591e91f809d716912ca1d4a9295e70c3e78bab077683f7...         1          2   \n",
       "\n",
       "   in_btc  out_btc  total_btc  mean_in_btc  mean_out_btc  in_malicious  \\\n",
       "0     0.0     50.0       50.0          0.0          50.0             0   \n",
       "1    50.0     50.0      100.0         50.0          25.0             0   \n",
       "2    10.0     10.0       20.0         10.0          10.0             0   \n",
       "3    40.0     30.0       70.0         40.0          30.0             0   \n",
       "4    30.0     30.0       60.0         30.0          15.0             0   \n",
       "\n",
       "   out_malicious  is_malicious  out_and_tx_malicious  all_malicious  \n",
       "0              0             0                     0              0  \n",
       "1              0             0                     0              0  \n",
       "2              0             0                     0              0  \n",
       "3              0             0                     0              0  \n",
       "4              0             0                     0              0  "
      ]
     },
     "execution_count": 4,
     "metadata": {},
     "output_type": "execute_result"
    }
   ],
   "source": [
    "df.head()"
   ]
  },
  {
   "cell_type": "code",
   "execution_count": 5,
   "id": "69ce30ad",
   "metadata": {},
   "outputs": [
    {
     "name": "stdout",
     "output_type": "stream",
     "text": [
      "<class 'pandas.core.frame.DataFrame'>\n",
      "RangeIndex: 30248134 entries, 0 to 30248133\n",
      "Data columns (total 13 columns):\n",
      " #   Column                Dtype  \n",
      "---  ------                -----  \n",
      " 0   tx_hash               object \n",
      " 1   indegree              int64  \n",
      " 2   outdegree             int64  \n",
      " 3   in_btc                float64\n",
      " 4   out_btc               float64\n",
      " 5   total_btc             float64\n",
      " 6   mean_in_btc           float64\n",
      " 7   mean_out_btc          float64\n",
      " 8   in_malicious          int64  \n",
      " 9   out_malicious         int64  \n",
      " 10  is_malicious          int64  \n",
      " 11  out_and_tx_malicious  int64  \n",
      " 12  all_malicious         int64  \n",
      "dtypes: float64(5), int64(7), object(1)\n",
      "memory usage: 2.9+ GB\n"
     ]
    }
   ],
   "source": [
    "df.info()"
   ]
  },
  {
   "cell_type": "code",
   "execution_count": 6,
   "id": "06efdc01",
   "metadata": {},
   "outputs": [
    {
     "data": {
      "text/html": [
       "<div>\n",
       "<style scoped>\n",
       "    .dataframe tbody tr th:only-of-type {\n",
       "        vertical-align: middle;\n",
       "    }\n",
       "\n",
       "    .dataframe tbody tr th {\n",
       "        vertical-align: top;\n",
       "    }\n",
       "\n",
       "    .dataframe thead th {\n",
       "        text-align: right;\n",
       "    }\n",
       "</style>\n",
       "<table border=\"1\" class=\"dataframe\">\n",
       "  <thead>\n",
       "    <tr style=\"text-align: right;\">\n",
       "      <th></th>\n",
       "      <th>indegree</th>\n",
       "      <th>outdegree</th>\n",
       "      <th>in_btc</th>\n",
       "      <th>out_btc</th>\n",
       "      <th>total_btc</th>\n",
       "      <th>mean_in_btc</th>\n",
       "      <th>mean_out_btc</th>\n",
       "      <th>in_malicious</th>\n",
       "      <th>out_malicious</th>\n",
       "      <th>is_malicious</th>\n",
       "      <th>out_and_tx_malicious</th>\n",
       "      <th>all_malicious</th>\n",
       "    </tr>\n",
       "  </thead>\n",
       "  <tbody>\n",
       "    <tr>\n",
       "      <th>count</th>\n",
       "      <td>3.024813e+07</td>\n",
       "      <td>3.024813e+07</td>\n",
       "      <td>3.024813e+07</td>\n",
       "      <td>3.024813e+07</td>\n",
       "      <td>3.024813e+07</td>\n",
       "      <td>3.024813e+07</td>\n",
       "      <td>3.024813e+07</td>\n",
       "      <td>3.024813e+07</td>\n",
       "      <td>3.024813e+07</td>\n",
       "      <td>3.024813e+07</td>\n",
       "      <td>3.024813e+07</td>\n",
       "      <td>3.024813e+07</td>\n",
       "    </tr>\n",
       "    <tr>\n",
       "      <th>mean</th>\n",
       "      <td>2.148699e+00</td>\n",
       "      <td>2.148699e+00</td>\n",
       "      <td>5.484150e+01</td>\n",
       "      <td>5.484150e+01</td>\n",
       "      <td>1.096830e+02</td>\n",
       "      <td>4.923980e+01</td>\n",
       "      <td>2.877087e+01</td>\n",
       "      <td>4.039919e-05</td>\n",
       "      <td>2.148893e-06</td>\n",
       "      <td>1.553815e-06</td>\n",
       "      <td>3.570468e-06</td>\n",
       "      <td>4.383741e-05</td>\n",
       "    </tr>\n",
       "    <tr>\n",
       "      <th>std</th>\n",
       "      <td>7.421447e+00</td>\n",
       "      <td>4.512048e+00</td>\n",
       "      <td>1.303303e+03</td>\n",
       "      <td>1.301473e+03</td>\n",
       "      <td>2.602527e+03</td>\n",
       "      <td>9.729210e+02</td>\n",
       "      <td>7.125567e+02</td>\n",
       "      <td>6.355907e-03</td>\n",
       "      <td>1.465909e-03</td>\n",
       "      <td>1.246520e-03</td>\n",
       "      <td>1.889565e-03</td>\n",
       "      <td>6.620838e-03</td>\n",
       "    </tr>\n",
       "    <tr>\n",
       "      <th>min</th>\n",
       "      <td>0.000000e+00</td>\n",
       "      <td>0.000000e+00</td>\n",
       "      <td>0.000000e+00</td>\n",
       "      <td>0.000000e+00</td>\n",
       "      <td>0.000000e+00</td>\n",
       "      <td>0.000000e+00</td>\n",
       "      <td>0.000000e+00</td>\n",
       "      <td>0.000000e+00</td>\n",
       "      <td>0.000000e+00</td>\n",
       "      <td>0.000000e+00</td>\n",
       "      <td>0.000000e+00</td>\n",
       "      <td>0.000000e+00</td>\n",
       "    </tr>\n",
       "    <tr>\n",
       "      <th>25%</th>\n",
       "      <td>1.000000e+00</td>\n",
       "      <td>2.000000e+00</td>\n",
       "      <td>1.000000e-01</td>\n",
       "      <td>9.950000e-02</td>\n",
       "      <td>2.058720e-01</td>\n",
       "      <td>6.400000e-02</td>\n",
       "      <td>5.025776e-02</td>\n",
       "      <td>0.000000e+00</td>\n",
       "      <td>0.000000e+00</td>\n",
       "      <td>0.000000e+00</td>\n",
       "      <td>0.000000e+00</td>\n",
       "      <td>0.000000e+00</td>\n",
       "    </tr>\n",
       "    <tr>\n",
       "      <th>50%</th>\n",
       "      <td>1.000000e+00</td>\n",
       "      <td>2.000000e+00</td>\n",
       "      <td>9.325000e-01</td>\n",
       "      <td>9.590000e-01</td>\n",
       "      <td>1.964759e+00</td>\n",
       "      <td>5.350261e-01</td>\n",
       "      <td>4.900000e-01</td>\n",
       "      <td>0.000000e+00</td>\n",
       "      <td>0.000000e+00</td>\n",
       "      <td>0.000000e+00</td>\n",
       "      <td>0.000000e+00</td>\n",
       "      <td>0.000000e+00</td>\n",
       "    </tr>\n",
       "    <tr>\n",
       "      <th>75%</th>\n",
       "      <td>2.000000e+00</td>\n",
       "      <td>2.000000e+00</td>\n",
       "      <td>8.591912e+00</td>\n",
       "      <td>9.063657e+00</td>\n",
       "      <td>1.840000e+01</td>\n",
       "      <td>5.614287e+00</td>\n",
       "      <td>4.519481e+00</td>\n",
       "      <td>0.000000e+00</td>\n",
       "      <td>0.000000e+00</td>\n",
       "      <td>0.000000e+00</td>\n",
       "      <td>0.000000e+00</td>\n",
       "      <td>0.000000e+00</td>\n",
       "    </tr>\n",
       "    <tr>\n",
       "      <th>max</th>\n",
       "      <td>1.932000e+03</td>\n",
       "      <td>1.322000e+03</td>\n",
       "      <td>5.500000e+05</td>\n",
       "      <td>5.000207e+05</td>\n",
       "      <td>1.050000e+06</td>\n",
       "      <td>4.992596e+05</td>\n",
       "      <td>5.000000e+05</td>\n",
       "      <td>1.000000e+00</td>\n",
       "      <td>1.000000e+00</td>\n",
       "      <td>1.000000e+00</td>\n",
       "      <td>1.000000e+00</td>\n",
       "      <td>1.000000e+00</td>\n",
       "    </tr>\n",
       "  </tbody>\n",
       "</table>\n",
       "</div>"
      ],
      "text/plain": [
       "           indegree     outdegree        in_btc       out_btc     total_btc  \\\n",
       "count  3.024813e+07  3.024813e+07  3.024813e+07  3.024813e+07  3.024813e+07   \n",
       "mean   2.148699e+00  2.148699e+00  5.484150e+01  5.484150e+01  1.096830e+02   \n",
       "std    7.421447e+00  4.512048e+00  1.303303e+03  1.301473e+03  2.602527e+03   \n",
       "min    0.000000e+00  0.000000e+00  0.000000e+00  0.000000e+00  0.000000e+00   \n",
       "25%    1.000000e+00  2.000000e+00  1.000000e-01  9.950000e-02  2.058720e-01   \n",
       "50%    1.000000e+00  2.000000e+00  9.325000e-01  9.590000e-01  1.964759e+00   \n",
       "75%    2.000000e+00  2.000000e+00  8.591912e+00  9.063657e+00  1.840000e+01   \n",
       "max    1.932000e+03  1.322000e+03  5.500000e+05  5.000207e+05  1.050000e+06   \n",
       "\n",
       "        mean_in_btc  mean_out_btc  in_malicious  out_malicious  is_malicious  \\\n",
       "count  3.024813e+07  3.024813e+07  3.024813e+07   3.024813e+07  3.024813e+07   \n",
       "mean   4.923980e+01  2.877087e+01  4.039919e-05   2.148893e-06  1.553815e-06   \n",
       "std    9.729210e+02  7.125567e+02  6.355907e-03   1.465909e-03  1.246520e-03   \n",
       "min    0.000000e+00  0.000000e+00  0.000000e+00   0.000000e+00  0.000000e+00   \n",
       "25%    6.400000e-02  5.025776e-02  0.000000e+00   0.000000e+00  0.000000e+00   \n",
       "50%    5.350261e-01  4.900000e-01  0.000000e+00   0.000000e+00  0.000000e+00   \n",
       "75%    5.614287e+00  4.519481e+00  0.000000e+00   0.000000e+00  0.000000e+00   \n",
       "max    4.992596e+05  5.000000e+05  1.000000e+00   1.000000e+00  1.000000e+00   \n",
       "\n",
       "       out_and_tx_malicious  all_malicious  \n",
       "count          3.024813e+07   3.024813e+07  \n",
       "mean           3.570468e-06   4.383741e-05  \n",
       "std            1.889565e-03   6.620838e-03  \n",
       "min            0.000000e+00   0.000000e+00  \n",
       "25%            0.000000e+00   0.000000e+00  \n",
       "50%            0.000000e+00   0.000000e+00  \n",
       "75%            0.000000e+00   0.000000e+00  \n",
       "max            1.000000e+00   1.000000e+00  "
      ]
     },
     "execution_count": 6,
     "metadata": {},
     "output_type": "execute_result"
    }
   ],
   "source": [
    "df.describe()"
   ]
  },
  {
   "cell_type": "code",
   "execution_count": 7,
   "id": "aeba3194",
   "metadata": {},
   "outputs": [
    {
     "data": {
      "text/plain": [
       "tx_hash                 0\n",
       "indegree                0\n",
       "outdegree               0\n",
       "in_btc                  0\n",
       "out_btc                 0\n",
       "total_btc               0\n",
       "mean_in_btc             0\n",
       "mean_out_btc            0\n",
       "in_malicious            0\n",
       "out_malicious           0\n",
       "is_malicious            0\n",
       "out_and_tx_malicious    0\n",
       "all_malicious           0\n",
       "dtype: int64"
      ]
     },
     "execution_count": 7,
     "metadata": {},
     "output_type": "execute_result"
    }
   ],
   "source": [
    "df.isnull().sum()"
   ]
  },
  {
   "cell_type": "code",
   "execution_count": 8,
   "id": "4f99c4d2",
   "metadata": {},
   "outputs": [
    {
     "data": {
      "text/plain": [
       "(30248134, 13)"
      ]
     },
     "execution_count": 8,
     "metadata": {},
     "output_type": "execute_result"
    }
   ],
   "source": [
    "df.shape"
   ]
  },
  {
   "cell_type": "markdown",
   "id": "c141d509",
   "metadata": {},
   "source": [
    "# Data Visualization"
   ]
  },
  {
   "cell_type": "code",
   "execution_count": 9,
   "id": "a3fec36c",
   "metadata": {},
   "outputs": [
    {
     "data": {
      "text/html": [
       "<div>\n",
       "<style scoped>\n",
       "    .dataframe tbody tr th:only-of-type {\n",
       "        vertical-align: middle;\n",
       "    }\n",
       "\n",
       "    .dataframe tbody tr th {\n",
       "        vertical-align: top;\n",
       "    }\n",
       "\n",
       "    .dataframe thead th {\n",
       "        text-align: right;\n",
       "    }\n",
       "</style>\n",
       "<table border=\"1\" class=\"dataframe\">\n",
       "  <thead>\n",
       "    <tr style=\"text-align: right;\">\n",
       "      <th></th>\n",
       "      <th>indegree</th>\n",
       "      <th>outdegree</th>\n",
       "      <th>in_btc</th>\n",
       "      <th>out_btc</th>\n",
       "      <th>total_btc</th>\n",
       "      <th>mean_in_btc</th>\n",
       "      <th>mean_out_btc</th>\n",
       "    </tr>\n",
       "  </thead>\n",
       "  <tbody>\n",
       "    <tr>\n",
       "      <th>count</th>\n",
       "      <td>30248134.000</td>\n",
       "      <td>30248134.000</td>\n",
       "      <td>30248134.000</td>\n",
       "      <td>30248134.000</td>\n",
       "      <td>30248134.000</td>\n",
       "      <td>30248134.000</td>\n",
       "      <td>30248134.000</td>\n",
       "    </tr>\n",
       "    <tr>\n",
       "      <th>mean</th>\n",
       "      <td>2.149</td>\n",
       "      <td>2.149</td>\n",
       "      <td>54.842</td>\n",
       "      <td>54.842</td>\n",
       "      <td>109.683</td>\n",
       "      <td>49.240</td>\n",
       "      <td>28.771</td>\n",
       "    </tr>\n",
       "    <tr>\n",
       "      <th>std</th>\n",
       "      <td>7.421</td>\n",
       "      <td>4.512</td>\n",
       "      <td>1303.303</td>\n",
       "      <td>1301.473</td>\n",
       "      <td>2602.527</td>\n",
       "      <td>972.921</td>\n",
       "      <td>712.557</td>\n",
       "    </tr>\n",
       "    <tr>\n",
       "      <th>min</th>\n",
       "      <td>0.000</td>\n",
       "      <td>0.000</td>\n",
       "      <td>0.000</td>\n",
       "      <td>0.000</td>\n",
       "      <td>0.000</td>\n",
       "      <td>0.000</td>\n",
       "      <td>0.000</td>\n",
       "    </tr>\n",
       "    <tr>\n",
       "      <th>25%</th>\n",
       "      <td>1.000</td>\n",
       "      <td>2.000</td>\n",
       "      <td>0.100</td>\n",
       "      <td>0.099</td>\n",
       "      <td>0.206</td>\n",
       "      <td>0.064</td>\n",
       "      <td>0.050</td>\n",
       "    </tr>\n",
       "    <tr>\n",
       "      <th>50%</th>\n",
       "      <td>1.000</td>\n",
       "      <td>2.000</td>\n",
       "      <td>0.932</td>\n",
       "      <td>0.959</td>\n",
       "      <td>1.965</td>\n",
       "      <td>0.535</td>\n",
       "      <td>0.490</td>\n",
       "    </tr>\n",
       "    <tr>\n",
       "      <th>75%</th>\n",
       "      <td>2.000</td>\n",
       "      <td>2.000</td>\n",
       "      <td>8.592</td>\n",
       "      <td>9.064</td>\n",
       "      <td>18.400</td>\n",
       "      <td>5.614</td>\n",
       "      <td>4.519</td>\n",
       "    </tr>\n",
       "    <tr>\n",
       "      <th>max</th>\n",
       "      <td>1932.000</td>\n",
       "      <td>1322.000</td>\n",
       "      <td>550000.000</td>\n",
       "      <td>500020.700</td>\n",
       "      <td>1050000.000</td>\n",
       "      <td>499259.588</td>\n",
       "      <td>500000.000</td>\n",
       "    </tr>\n",
       "  </tbody>\n",
       "</table>\n",
       "</div>"
      ],
      "text/plain": [
       "          indegree    outdegree       in_btc      out_btc    total_btc  \\\n",
       "count 30248134.000 30248134.000 30248134.000 30248134.000 30248134.000   \n",
       "mean         2.149        2.149       54.842       54.842      109.683   \n",
       "std          7.421        4.512     1303.303     1301.473     2602.527   \n",
       "min          0.000        0.000        0.000        0.000        0.000   \n",
       "25%          1.000        2.000        0.100        0.099        0.206   \n",
       "50%          1.000        2.000        0.932        0.959        1.965   \n",
       "75%          2.000        2.000        8.592        9.064       18.400   \n",
       "max       1932.000     1322.000   550000.000   500020.700  1050000.000   \n",
       "\n",
       "       mean_in_btc  mean_out_btc  \n",
       "count 30248134.000  30248134.000  \n",
       "mean        49.240        28.771  \n",
       "std        972.921       712.557  \n",
       "min          0.000         0.000  \n",
       "25%          0.064         0.050  \n",
       "50%          0.535         0.490  \n",
       "75%          5.614         4.519  \n",
       "max     499259.588    500000.000  "
      ]
     },
     "execution_count": 9,
     "metadata": {},
     "output_type": "execute_result"
    }
   ],
   "source": [
    "pd.options.display.float_format = '{:.3f}'.format\n",
    "o_df = df.iloc[:,1:8]\n",
    "o_df.describe()"
   ]
  },
  {
   "cell_type": "code",
   "execution_count": 10,
   "id": "f02a0b00",
   "metadata": {},
   "outputs": [
    {
     "data": {
      "image/png": "[encoded data removed]",
      "text/plain": [
       "<Figure size 1296x1440 with 9 Axes>"
      ]
     },
     "metadata": {
      "needs_background": "light"
     },
     "output_type": "display_data"
    }
   ],
   "source": [
    "o_df.hist(figsize=(18, 20), bins=50, xlabelsize=9, ylabelsize=9, log=False);"
   ]
  },
  {
   "cell_type": "code",
   "execution_count": 11,
   "id": "3db837ca",
   "metadata": {},
   "outputs": [
    {
     "data": {
      "image/png": "[encoded data removed]",
      "text/plain": [
       "<Figure size 1440x1440 with 9 Axes>"
      ]
     },
     "metadata": {
      "needs_background": "light"
     },
     "output_type": "display_data"
    }
   ],
   "source": [
    "log_o_df1 = np.log(o_df).replace(-np.inf, -1)\n",
    "log_o_df1.hist(figsize=(20, 20), bins=50, xlabelsize=9, ylabelsize=9, log=False);"
   ]
  },
  {
   "cell_type": "markdown",
   "id": "ca2eec03",
   "metadata": {},
   "source": [
    "# Cleaning the data"
   ]
  },
  {
   "cell_type": "code",
   "execution_count": 12,
   "id": "5e963c0f",
   "metadata": {},
   "outputs": [],
   "source": [
    "\n",
    "rob_scaler = RobustScaler()\n",
    "\n",
    "scaled_df = log_o_df1.copy()\n",
    "\n",
    "scaled_df['indegree'] = rob_scaler.fit_transform(scaled_df['indegree'].values.reshape(-1,1))\n",
    "scaled_df['outdegree'] = rob_scaler.fit_transform(scaled_df['outdegree'].values.reshape(-1,1))\n",
    "scaled_df['in_btc'] = rob_scaler.fit_transform(scaled_df['in_btc'].values.reshape(-1,1))\n",
    "scaled_df['out_btc'] = rob_scaler.fit_transform(scaled_df['out_btc'].values.reshape(-1,1))\n",
    "scaled_df['total_btc'] = rob_scaler.fit_transform(scaled_df['total_btc'].values.reshape(-1,1))\n",
    "scaled_df['mean_in_btc'] = rob_scaler.fit_transform(scaled_df['mean_in_btc'].values.reshape(-1,1))\n",
    "scaled_df['mean_out_btc'] = rob_scaler.fit_transform(scaled_df['mean_out_btc'].values.reshape(-1,1))"
   ]
  },
  {
   "cell_type": "code",
   "execution_count": 13,
   "id": "c5137bee",
   "metadata": {},
   "outputs": [
    {
     "data": {
      "text/html": [
       "<div>\n",
       "<style scoped>\n",
       "    .dataframe tbody tr th:only-of-type {\n",
       "        vertical-align: middle;\n",
       "    }\n",
       "\n",
       "    .dataframe tbody tr th {\n",
       "        vertical-align: top;\n",
       "    }\n",
       "\n",
       "    .dataframe thead th {\n",
       "        text-align: right;\n",
       "    }\n",
       "</style>\n",
       "<table border=\"1\" class=\"dataframe\">\n",
       "  <thead>\n",
       "    <tr style=\"text-align: right;\">\n",
       "      <th></th>\n",
       "      <th>indegree</th>\n",
       "      <th>outdegree</th>\n",
       "      <th>in_btc</th>\n",
       "      <th>out_btc</th>\n",
       "      <th>total_btc</th>\n",
       "      <th>mean_in_btc</th>\n",
       "      <th>mean_out_btc</th>\n",
       "    </tr>\n",
       "  </thead>\n",
       "  <tbody>\n",
       "    <tr>\n",
       "      <th>count</th>\n",
       "      <td>30248134.000000</td>\n",
       "      <td>30248134.000000</td>\n",
       "      <td>30248134.000000</td>\n",
       "      <td>30248134.000000</td>\n",
       "      <td>30248134.000000</td>\n",
       "      <td>30248134.000000</td>\n",
       "      <td>30248134.000000</td>\n",
       "    </tr>\n",
       "    <tr>\n",
       "      <th>mean</th>\n",
       "      <td>0.549295</td>\n",
       "      <td>-0.058114</td>\n",
       "      <td>0.006613</td>\n",
       "      <td>0.000223</td>\n",
       "      <td>-0.001203</td>\n",
       "      <td>0.044424</td>\n",
       "      <td>0.007085</td>\n",
       "    </tr>\n",
       "    <tr>\n",
       "      <th>std</th>\n",
       "      <td>0.931814</td>\n",
       "      <td>0.373407</td>\n",
       "      <td>0.643707</td>\n",
       "      <td>0.643069</td>\n",
       "      <td>0.636120</td>\n",
       "      <td>0.661765</td>\n",
       "      <td>0.648637</td>\n",
       "    </tr>\n",
       "    <tr>\n",
       "      <th>min</th>\n",
       "      <td>-1.442695</td>\n",
       "      <td>-1.693147</td>\n",
       "      <td>-4.170404</td>\n",
       "      <td>-4.096177</td>\n",
       "      <td>-4.250319</td>\n",
       "      <td>-4.068037</td>\n",
       "      <td>-4.000418</td>\n",
       "    </tr>\n",
       "    <tr>\n",
       "      <th>25%</th>\n",
       "      <td>0.000000</td>\n",
       "      <td>0.000000</td>\n",
       "      <td>-0.495322</td>\n",
       "      <td>-0.499392</td>\n",
       "      <td>-0.502102</td>\n",
       "      <td>-0.462612</td>\n",
       "      <td>-0.498066</td>\n",
       "    </tr>\n",
       "    <tr>\n",
       "      <th>50%</th>\n",
       "      <td>0.000000</td>\n",
       "      <td>0.000000</td>\n",
       "      <td>0.000000</td>\n",
       "      <td>0.000000</td>\n",
       "      <td>0.000000</td>\n",
       "      <td>0.000000</td>\n",
       "      <td>0.000000</td>\n",
       "    </tr>\n",
       "    <tr>\n",
       "      <th>75%</th>\n",
       "      <td>1.000000</td>\n",
       "      <td>0.000000</td>\n",
       "      <td>0.504678</td>\n",
       "      <td>0.500608</td>\n",
       "      <td>0.497898</td>\n",
       "      <td>0.537388</td>\n",
       "      <td>0.501934</td>\n",
       "    </tr>\n",
       "    <tr>\n",
       "      <th>max</th>\n",
       "      <td>10.915879</td>\n",
       "      <td>6.493754</td>\n",
       "      <td>3.019732</td>\n",
       "      <td>2.933985</td>\n",
       "      <td>2.935537</td>\n",
       "      <td>3.142444</td>\n",
       "      <td>3.125747</td>\n",
       "    </tr>\n",
       "  </tbody>\n",
       "</table>\n",
       "</div>"
      ],
      "text/plain": [
       "             indegree       outdegree          in_btc         out_btc  \\\n",
       "count 30248134.000000 30248134.000000 30248134.000000 30248134.000000   \n",
       "mean         0.549295       -0.058114        0.006613        0.000223   \n",
       "std          0.931814        0.373407        0.643707        0.643069   \n",
       "min         -1.442695       -1.693147       -4.170404       -4.096177   \n",
       "25%          0.000000        0.000000       -0.495322       -0.499392   \n",
       "50%          0.000000        0.000000        0.000000        0.000000   \n",
       "75%          1.000000        0.000000        0.504678        0.500608   \n",
       "max         10.915879        6.493754        3.019732        2.933985   \n",
       "\n",
       "            total_btc     mean_in_btc    mean_out_btc  \n",
       "count 30248134.000000 30248134.000000 30248134.000000  \n",
       "mean        -0.001203        0.044424        0.007085  \n",
       "std          0.636120        0.661765        0.648637  \n",
       "min         -4.250319       -4.068037       -4.000418  \n",
       "25%         -0.502102       -0.462612       -0.498066  \n",
       "50%          0.000000        0.000000        0.000000  \n",
       "75%          0.497898        0.537388        0.501934  \n",
       "max          2.935537        3.142444        3.125747  "
      ]
     },
     "execution_count": 13,
     "metadata": {},
     "output_type": "execute_result"
    }
   ],
   "source": [
    "pd.options.display.float_format = '{:.6f}'.format\n",
    "scaled_df.describe()"
   ]
  },
  {
   "cell_type": "code",
   "execution_count": 14,
   "id": "465bfb0b",
   "metadata": {},
   "outputs": [
    {
     "data": {
      "image/png": "[encoded data removed]",
      "text/plain": [
       "<Figure size 1440x1440 with 9 Axes>"
      ]
     },
     "metadata": {
      "needs_background": "light"
     },
     "output_type": "display_data"
    }
   ],
   "source": [
    "scaled_df.hist(figsize=(20, 20), bins=50, xlabelsize=9, ylabelsize=9, log=False);"
   ]
  },
  {
   "cell_type": "markdown",
   "id": "be848190",
   "metadata": {},
   "source": [
    "# Building Model"
   ]
  },
  {
   "cell_type": "code",
   "execution_count": 15,
   "id": "0d145393",
   "metadata": {},
   "outputs": [],
   "source": [
    "df.drop('tx_hash', axis=1, inplace=True)\n",
    "df.drop('in_malicious', axis=1, inplace=True)\n",
    "df.drop('out_malicious', axis=1, inplace=True)\n",
    "df.drop('is_malicious', axis=1, inplace=True)\n",
    "df.drop('all_malicious', axis=1, inplace=True)"
   ]
  },
  {
   "cell_type": "code",
   "execution_count": 16,
   "id": "c25cf18e",
   "metadata": {},
   "outputs": [
    {
     "data": {
      "text/html": [
       "<div>\n",
       "<style scoped>\n",
       "    .dataframe tbody tr th:only-of-type {\n",
       "        vertical-align: middle;\n",
       "    }\n",
       "\n",
       "    .dataframe tbody tr th {\n",
       "        vertical-align: top;\n",
       "    }\n",
       "\n",
       "    .dataframe thead th {\n",
       "        text-align: right;\n",
       "    }\n",
       "</style>\n",
       "<table border=\"1\" class=\"dataframe\">\n",
       "  <thead>\n",
       "    <tr style=\"text-align: right;\">\n",
       "      <th></th>\n",
       "      <th>indegree</th>\n",
       "      <th>outdegree</th>\n",
       "      <th>in_btc</th>\n",
       "      <th>out_btc</th>\n",
       "      <th>total_btc</th>\n",
       "      <th>mean_in_btc</th>\n",
       "      <th>mean_out_btc</th>\n",
       "      <th>out_and_tx_malicious</th>\n",
       "    </tr>\n",
       "  </thead>\n",
       "  <tbody>\n",
       "    <tr>\n",
       "      <th>count</th>\n",
       "      <td>30248134.000000</td>\n",
       "      <td>30248134.000000</td>\n",
       "      <td>30248134.000000</td>\n",
       "      <td>30248134.000000</td>\n",
       "      <td>30248134.000000</td>\n",
       "      <td>30248134.000000</td>\n",
       "      <td>30248134.000000</td>\n",
       "      <td>30248134.000000</td>\n",
       "    </tr>\n",
       "    <tr>\n",
       "      <th>mean</th>\n",
       "      <td>2.148699</td>\n",
       "      <td>2.148699</td>\n",
       "      <td>54.841501</td>\n",
       "      <td>54.841501</td>\n",
       "      <td>109.683002</td>\n",
       "      <td>49.239797</td>\n",
       "      <td>28.770874</td>\n",
       "      <td>0.000004</td>\n",
       "    </tr>\n",
       "    <tr>\n",
       "      <th>std</th>\n",
       "      <td>7.421447</td>\n",
       "      <td>4.512048</td>\n",
       "      <td>1303.302881</td>\n",
       "      <td>1301.473470</td>\n",
       "      <td>2602.526618</td>\n",
       "      <td>972.920965</td>\n",
       "      <td>712.556663</td>\n",
       "      <td>0.001890</td>\n",
       "    </tr>\n",
       "    <tr>\n",
       "      <th>min</th>\n",
       "      <td>0.000000</td>\n",
       "      <td>0.000000</td>\n",
       "      <td>0.000000</td>\n",
       "      <td>0.000000</td>\n",
       "      <td>0.000000</td>\n",
       "      <td>0.000000</td>\n",
       "      <td>0.000000</td>\n",
       "      <td>0.000000</td>\n",
       "    </tr>\n",
       "    <tr>\n",
       "      <th>25%</th>\n",
       "      <td>1.000000</td>\n",
       "      <td>2.000000</td>\n",
       "      <td>0.100000</td>\n",
       "      <td>0.099500</td>\n",
       "      <td>0.205872</td>\n",
       "      <td>0.064000</td>\n",
       "      <td>0.050258</td>\n",
       "      <td>0.000000</td>\n",
       "    </tr>\n",
       "    <tr>\n",
       "      <th>50%</th>\n",
       "      <td>1.000000</td>\n",
       "      <td>2.000000</td>\n",
       "      <td>0.932500</td>\n",
       "      <td>0.959000</td>\n",
       "      <td>1.964759</td>\n",
       "      <td>0.535026</td>\n",
       "      <td>0.490000</td>\n",
       "      <td>0.000000</td>\n",
       "    </tr>\n",
       "    <tr>\n",
       "      <th>75%</th>\n",
       "      <td>2.000000</td>\n",
       "      <td>2.000000</td>\n",
       "      <td>8.591912</td>\n",
       "      <td>9.063657</td>\n",
       "      <td>18.400000</td>\n",
       "      <td>5.614287</td>\n",
       "      <td>4.519481</td>\n",
       "      <td>0.000000</td>\n",
       "    </tr>\n",
       "    <tr>\n",
       "      <th>max</th>\n",
       "      <td>1932.000000</td>\n",
       "      <td>1322.000000</td>\n",
       "      <td>550000.000000</td>\n",
       "      <td>500020.700377</td>\n",
       "      <td>1050000.000000</td>\n",
       "      <td>499259.587549</td>\n",
       "      <td>500000.000000</td>\n",
       "      <td>1.000000</td>\n",
       "    </tr>\n",
       "  </tbody>\n",
       "</table>\n",
       "</div>"
      ],
      "text/plain": [
       "             indegree       outdegree          in_btc         out_btc  \\\n",
       "count 30248134.000000 30248134.000000 30248134.000000 30248134.000000   \n",
       "mean         2.148699        2.148699       54.841501       54.841501   \n",
       "std          7.421447        4.512048     1303.302881     1301.473470   \n",
       "min          0.000000        0.000000        0.000000        0.000000   \n",
       "25%          1.000000        2.000000        0.100000        0.099500   \n",
       "50%          1.000000        2.000000        0.932500        0.959000   \n",
       "75%          2.000000        2.000000        8.591912        9.063657   \n",
       "max       1932.000000     1322.000000   550000.000000   500020.700377   \n",
       "\n",
       "            total_btc     mean_in_btc    mean_out_btc  out_and_tx_malicious  \n",
       "count 30248134.000000 30248134.000000 30248134.000000       30248134.000000  \n",
       "mean       109.683002       49.239797       28.770874              0.000004  \n",
       "std       2602.526618      972.920965      712.556663              0.001890  \n",
       "min          0.000000        0.000000        0.000000              0.000000  \n",
       "25%          0.205872        0.064000        0.050258              0.000000  \n",
       "50%          1.964759        0.535026        0.490000              0.000000  \n",
       "75%         18.400000        5.614287        4.519481              0.000000  \n",
       "max    1050000.000000   499259.587549   500000.000000              1.000000  "
      ]
     },
     "execution_count": 16,
     "metadata": {},
     "output_type": "execute_result"
    }
   ],
   "source": [
    "df.describe()"
   ]
  },
  {
   "cell_type": "code",
   "execution_count": 17,
   "id": "04cffd6b",
   "metadata": {},
   "outputs": [
    {
     "name": "stdout",
     "output_type": "stream",
     "text": [
      "No Frauds 100.0 % of the dataset\n",
      "Frauds 0.00036 % of the dataset\n"
     ]
    }
   ],
   "source": [
    "print('No Frauds', round(df['out_and_tx_malicious'].value_counts()[0]/len(df) * 100,2), '% of the dataset')\n",
    "print('Frauds', round(df['out_and_tx_malicious'].value_counts()[1]/len(df) * 100,5), '% of the dataset')"
   ]
  },
  {
   "cell_type": "code",
   "execution_count": 18,
   "id": "2e6da1f7",
   "metadata": {},
   "outputs": [
    {
     "data": {
      "text/plain": [
       "0    30248026\n",
       "1         108\n",
       "Name: out_and_tx_malicious, dtype: int64"
      ]
     },
     "execution_count": 18,
     "metadata": {},
     "output_type": "execute_result"
    }
   ],
   "source": [
    "df['out_and_tx_malicious'].value_counts()"
   ]
  },
  {
   "cell_type": "code",
   "execution_count": 19,
   "id": "f5ae743e",
   "metadata": {},
   "outputs": [],
   "source": [
    "X = df.drop('out_and_tx_malicious', axis=1)\n",
    "y = df['out_and_tx_malicious']"
   ]
  },
  {
   "cell_type": "code",
   "execution_count": 20,
   "id": "22c2a037",
   "metadata": {},
   "outputs": [],
   "source": [
    "smote = SMOTE(sampling_strategy='auto', random_state=42)\n",
    "X, y = smote.fit_resample(X, y)"
   ]
  },
  {
   "cell_type": "markdown",
   "id": "059482c4",
   "metadata": {},
   "source": [
    "# Linear Regression"
   ]
  },
  {
   "cell_type": "code",
   "execution_count": 21,
   "id": "8b99e887",
   "metadata": {},
   "outputs": [],
   "source": [
    "X_train, X_test, y_train, y_test = train_test_split(X, y, test_size=0.2, random_state=42)\n",
    "\n",
    "LR = LinearRegression()\n",
    "LR.fit(X_train, y_train)\n",
    "\n",
    "y_pred = LR.predict(X_test)"
   ]
  },
  {
   "cell_type": "code",
   "execution_count": 22,
   "id": "e9cca96d",
   "metadata": {},
   "outputs": [
    {
     "name": "stdout",
     "output_type": "stream",
     "text": [
      "Precision: 98.16403671395997\n",
      "Recall: 36.70442677959707\n",
      "F1 Score: 53.43064797545273\n",
      "Accuracy: 68.01323656559093\n",
      "Specificity: 99.31369962905006\n",
      "Sensitivity: 36.70442677959707\n"
     ]
    }
   ],
   "source": [
    "y_pred_binary = [1 if val >= 0.5 else 0 for val in y_pred]\n",
    "\n",
    "precision = precision_score(y_test, y_pred_binary) * 100\n",
    "recall = recall_score(y_test, y_pred_binary) * 100\n",
    "f1 = f1_score(y_test, y_pred_binary) * 100\n",
    "accuracy = accuracy_score(y_test, y_pred_binary) * 100\n",
    "\n",
    "\n",
    "conf_matrix = confusion_matrix(y_test, y_pred_binary)\n",
    "\n",
    "\n",
    "true_negative = conf_matrix[0, 0]\n",
    "false_positive = conf_matrix[0, 1]\n",
    "false_negative = conf_matrix[1, 0]\n",
    "true_positive = conf_matrix[1, 1]\n",
    "\n",
    "specificity = true_negative / (true_negative + false_positive) * 100\n",
    "sensitivity = true_positive / (true_positive + false_negative) * 100\n",
    "\n",
    "\n",
    "print(\"Precision:\", precision)\n",
    "print(\"Recall:\", recall)\n",
    "print(\"F1 Score:\", f1)\n",
    "print(\"Accuracy:\", accuracy)\n",
    "print(\"Specificity:\", specificity)\n",
    "print(\"Sensitivity:\", sensitivity)"
   ]
  },
  {
   "cell_type": "markdown",
   "id": "d2dba745",
   "metadata": {},
   "source": [
    "# Naive Bayes"
   ]
  },
  {
   "cell_type": "code",
   "execution_count": 23,
   "id": "745a606f",
   "metadata": {},
   "outputs": [],
   "source": [
    "gnb = GaussianNB()\n",
    "gnb.fit(X_train, y_train)\n",
    "\n",
    "y_pred = gnb.predict(X_test)"
   ]
  },
  {
   "cell_type": "code",
   "execution_count": 24,
   "id": "ad9a9ae7",
   "metadata": {},
   "outputs": [
    {
     "name": "stdout",
     "output_type": "stream",
     "text": [
      "Precision: 97.76281224966147\n",
      "Recall: 31.796774863902733\n",
      "F1 Score: 47.98629264601956\n",
      "Accuracy: 65.53916614893318\n",
      "Specificity: 99.27256193462529\n",
      "Sensitivity: 31.796774863902733\n"
     ]
    }
   ],
   "source": [
    "y_pred_binary = [1 if val >= 0.5 else 0 for val in y_pred]\n",
    "\n",
    "precision1 = precision_score(y_test, y_pred_binary) * 100\n",
    "recall1 = recall_score(y_test, y_pred_binary) * 100\n",
    "f11 = f1_score(y_test, y_pred_binary) * 100\n",
    "accuracy1 = accuracy_score(y_test, y_pred_binary) * 100\n",
    "\n",
    "\n",
    "conf_matrix = confusion_matrix(y_test, y_pred_binary)\n",
    "\n",
    "\n",
    "true_negative = conf_matrix[0, 0]\n",
    "false_positive = conf_matrix[0, 1]\n",
    "false_negative = conf_matrix[1, 0]\n",
    "true_positive = conf_matrix[1, 1]\n",
    "\n",
    "specificity1 = true_negative / (true_negative + false_positive) * 100\n",
    "sensitivity1 = true_positive / (true_positive + false_negative) * 100\n",
    "\n",
    "\n",
    "print(\"Precision:\", precision1)\n",
    "print(\"Recall:\", recall1)\n",
    "print(\"F1 Score:\", f11)\n",
    "print(\"Accuracy:\", accuracy1)\n",
    "print(\"Specificity:\", specificity1)\n",
    "print(\"Sensitivity:\", sensitivity1)"
   ]
  },
  {
   "cell_type": "markdown",
   "id": "851f0bdd",
   "metadata": {},
   "source": [
    "# Xgboost"
   ]
  },
  {
   "cell_type": "code",
   "execution_count": 26,
   "id": "62886f1c",
   "metadata": {},
   "outputs": [],
   "source": [
    "xg = xgb.XGBClassifier()\n",
    "\n",
    "xg.fit(X_train, y_train)\n",
    "\n",
    "y_pred = xg.predict(X_test)"
   ]
  },
  {
   "cell_type": "code",
   "execution_count": 27,
   "id": "c7efc307",
   "metadata": {},
   "outputs": [
    {
     "name": "stdout",
     "output_type": "stream",
     "text": [
      "Precision: 96.00683043905516\n",
      "Recall: 95.81174709227402\n",
      "F1 Score: 95.90918956382325\n",
      "Accuracy: 95.91389058344383\n",
      "Specificity: 96.01600684383146\n",
      "Sensitivity: 95.81174709227402\n"
     ]
    }
   ],
   "source": [
    "y_pred_binary = [1 if val >= 0.5 else 0 for val in y_pred]\n",
    "\n",
    "precision2 = precision_score(y_test, y_pred_binary) * 100\n",
    "recall2 = recall_score(y_test, y_pred_binary) * 100\n",
    "f12 = f1_score(y_test, y_pred_binary) * 100\n",
    "accuracy2 = accuracy_score(y_test, y_pred_binary) * 100\n",
    "\n",
    "\n",
    "conf_matrix = confusion_matrix(y_test, y_pred_binary)\n",
    "\n",
    "\n",
    "true_negative = conf_matrix[0, 0]\n",
    "false_positive = conf_matrix[0, 1]\n",
    "false_negative = conf_matrix[1, 0]\n",
    "true_positive = conf_matrix[1, 1]\n",
    "\n",
    "specificity2 = true_negative / (true_negative + false_positive) * 100\n",
    "sensitivity2 = true_positive / (true_positive + false_negative) * 100\n",
    "\n",
    "\n",
    "print(\"Precision:\", precision2)\n",
    "print(\"Recall:\", recall2)\n",
    "print(\"F1 Score:\", f12)\n",
    "print(\"Accuracy:\", accuracy2)\n",
    "print(\"Specificity:\", specificity2)\n",
    "print(\"Sensitivity:\", sensitivity2)"
   ]
  },
  {
   "cell_type": "markdown",
   "id": "3c79f573",
   "metadata": {},
   "source": [
    "# Comparison"
   ]
  },
  {
   "cell_type": "code",
   "execution_count": 29,
   "id": "0b2053e8",
   "metadata": {},
   "outputs": [],
   "source": [
    "results ={'Accuracy': [accuracy,accuracy1,accuracy2],\n",
    " 'Recall':[recall,recall1,recall2],\n",
    " 'Precision': [precision,precision1,precision2],\n",
    "  'F1 Score' : [f1,f11,f12],\n",
    "  'Sensitivity' : [sensitivity,sensitivity1,sensitivity2],\n",
    "  'Specificity' : [specificity,specificity1,specificity2]}\n",
    "index = ['Linear Regression','Naive Bayes','Xgboost']"
   ]
  },
  {
   "cell_type": "code",
   "execution_count": 30,
   "id": "e5e873c7",
   "metadata": {},
   "outputs": [],
   "source": [
    "results =pd.DataFrame(results,index=index)"
   ]
  },
  {
   "cell_type": "code",
   "execution_count": 31,
   "id": "555992e4",
   "metadata": {},
   "outputs": [
    {
     "name": "stdout",
     "output_type": "stream",
     "text": [
      "                   Accuracy    Recall  Precision  F1 Score  Sensitivity  \\\n",
      "Linear Regression 68.013237 36.704427  98.164037 53.430648    36.704427   \n",
      "Naive Bayes       65.539166 31.796775  97.762812 47.986293    31.796775   \n",
      "Xgboost           95.913891 95.811747  96.006830 95.909190    95.811747   \n",
      "\n",
      "                   Specificity  \n",
      "Linear Regression    99.313700  \n",
      "Naive Bayes          99.272562  \n",
      "Xgboost              96.016007  \n"
     ]
    }
   ],
   "source": [
    "print(results)"
   ]
  },
  {
   "cell_type": "code",
   "execution_count": 32,
   "id": "f67f595e",
   "metadata": {},
   "outputs": [
    {
     "data": {
      "image/png": "[encoded data removed]",
      "text/plain": [
       "<Figure size 1584x1584 with 1 Axes>"
      ]
     },
     "metadata": {
      "needs_background": "light"
     },
     "output_type": "display_data"
    }
   ],
   "source": [
    "fig =results.plot(kind='bar',title='Comaprison of models',figsize =(22,22)).get_figure()\n",
    "fig.savefig('Final Result.png')"
   ]
  },
  {
   "cell_type": "code",
   "execution_count": 33,
   "id": "317b747a",
   "metadata": {},
   "outputs": [
    {
     "data": {
      "text/plain": [
       "array([<AxesSubplot:title={'center':'Accuracy'}>,\n",
       "       <AxesSubplot:title={'center':'Recall'}>,\n",
       "       <AxesSubplot:title={'center':'Precision'}>,\n",
       "       <AxesSubplot:title={'center':'F1 Score'}>,\n",
       "       <AxesSubplot:title={'center':'Sensitivity'}>,\n",
       "       <AxesSubplot:title={'center':'Specificity'}>], dtype=object)"
      ]
     },
     "execution_count": 33,
     "metadata": {},
     "output_type": "execute_result"
    },
    {
     "data": {
      "image/png": "[encoded data removed]",
      "text/plain": [
       "<Figure size 288x720 with 6 Axes>"
      ]
     },
     "metadata": {
      "needs_background": "light"
     },
     "output_type": "display_data"
    }
   ],
   "source": [
    "results.plot(subplots=True,kind ='bar',figsize=(4,10))"
   ]
  },
  {
   "cell_type": "markdown",
   "id": "73c17c83",
   "metadata": {},
   "source": [
    "# Saving the model"
   ]
  },
  {
   "cell_type": "code",
   "execution_count": 34,
   "id": "1717eaee",
   "metadata": {},
   "outputs": [],
   "source": [
    "pickle.dump(xg,open('model.sav','wb'))"
   ]
  },
  {
   "cell_type": "code",
   "execution_count": null,
   "id": "1a1bb0e3",
   "metadata": {},
   "outputs": [],
   "source": []
  }
 ],
 "metadata": {
  "kernelspec": {
   "display_name": "Python 3",
   "language": "python",
   "name": "python3"
  },
  "language_info": {
   "codemirror_mode": {
    "name": "ipython",
    "version": 3
   },
   "file_extension": ".py",
   "mimetype": "text/x-python",
   "name": "python",
   "nbconvert_exporter": "python",
   "pygments_lexer": "ipython3",
   "version": "3.7.4"
  }
 },
 "nbformat": 4,
 "nbformat_minor": 5
}
